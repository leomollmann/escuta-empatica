{
 "cells": [
  {
   "cell_type": "code",
   "execution_count": 8,
   "metadata": {},
   "outputs": [],
   "source": [
    "import shutil\n",
    "import os\n",
    "from ee.openai import prompt\n",
    "\n",
    "def copy_files(source_folder, destination_folder):\n",
    "    # Get the list of files in the source folder\n",
    "    files = os.listdir(source_folder)\n",
    "    \n",
    "    # Iterate over each file and copy it to the destination folder\n",
    "    for file in files:\n",
    "        source_path = os.path.join(source_folder, file)\n",
    "        destination_path = os.path.join(destination_folder, file)\n",
    "        shutil.copy2(source_path, destination_path)\n",
    "        \n",
    "        # Open the copied file in write mode\n",
    "        with open(destination_path, 'r') as f:\n",
    "            # Read the content of the file\n",
    "            content = f.read()\n",
    "        \n",
    "        with open(destination_path, 'w') as f:\n",
    "            extended = prompt(\"\"\"you are dealing with empathetic listening conversations, continue the following conversations until you reach exactly 13 interactions total.\n",
    "example:\n",
    "- I don't know what to do. I was waiting to get out of my doctoral scholarship at the university, but they're dragging me around and I don't think I can get out. A month ago I had a meeting, they said that they really liked my line of research and that they didn't let me down. Yesterday, everything changed. They want me to pay, but I can't afford it. After years of dedication as a teacher, I was counting on that money. It would be very important for my income. I don't even know what to think.\n",
    "- I was listening to you and I think I identified some feelings there. Maybe sadness, frustration, disappointment... Could it be?\n",
    "- It could be, yes. There are certainly three. Disappointment, anxiety too.\n",
    "- Hmm. Maybe you're also afraid of running out of income?\n",
    "- Yes true. He's afraid too. I didn't realize it and it could be influenced in my reactivity towards them.\n",
    "- And I imagine that the fear comes because you have a strong need for material security. It makes sense?\n",
    "- Total. Good to find that out, I hadn't even realized it.\n",
    "- And the disappointment I think came because you need greater reciprocity and attention to the years of dedication and it seems that this is not being met...\n",
    "- Yes, in several situations where the university needed me, I was there. Now that I need it, and it's fair, they don't help me.\n",
    "- Yes, I understand.\n",
    "- Thanks for conforting me.\n",
    "\n",
    "text:\n",
    "\"\"\" + content)\n",
    "\n",
    "            f.write(content + '\\n' + extended)\n",
    "        \n",
    "# Example usage\n",
    "source_folder = \"../dados/juliano_rigatti_en\"\n",
    "destination_folder = \"../dados/juliano_rigatti_en_extended\"\n",
    "copy_files(source_folder, destination_folder)"
   ]
  }
 ],
 "metadata": {
  "kernelspec": {
   "display_name": "ee--umeK6YO-py3.12",
   "language": "python",
   "name": "python3"
  },
  "language_info": {
   "codemirror_mode": {
    "name": "ipython",
    "version": 3
   },
   "file_extension": ".py",
   "mimetype": "text/x-python",
   "name": "python",
   "nbconvert_exporter": "python",
   "pygments_lexer": "ipython3",
   "version": "3.12.4"
  }
 },
 "nbformat": 4,
 "nbformat_minor": 2
}
