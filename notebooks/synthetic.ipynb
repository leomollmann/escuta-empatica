{
 "cells": [
  {
   "cell_type": "code",
   "execution_count": 1,
   "metadata": {},
   "outputs": [],
   "source": [
    "import os\n",
    "from ee.openai import prompt\n",
    "\n",
    "def generate_files(destination_folder, num_files):\n",
    "    # Create the destination folder if it doesn't exist\n",
    "    os.makedirs(destination_folder, exist_ok=True)\n",
    "    \n",
    "    # Generate the specified number of files\n",
    "    for i in range(1, num_files + 1):\n",
    "        file_path = os.path.join(destination_folder, f\"{i}.txt\")\n",
    "        \n",
    "        # Open the file in write mode\n",
    "        with open(file_path, 'w') as f:\n",
    "            # Write the content to the file\n",
    "            content = prompt(\"\"\"You are simulating casual chat between people. Create a conversation between two people that converges to an closure after at least 12 interactions.\n",
    "\n",
    "Use this as a chat structure:\n",
    "- <person A starts talking about something good or bad that happened in their life>\n",
    "- <person B replies>\n",
    "\n",
    "Use this as an concrete example:\n",
    "- I need to study for my final exams today, I feel exhausted.\n",
    "- Same, I have my own problems to deal with here also, will be a hard week.\n",
    "- Yes, at lest we have the weekends to party and relax.\n",
    "- Yeah, what will you do this weekend?\n",
    "- Sleep a lot, since I did not had the best sleep schedule this week, play some sports, videogames...\n",
    "- Cool, want to play some volley with me and some other friends?\n",
    "- Would be great, at what time?\n",
    "- Saturday, 1PM, at the park near my house, you know right?\n",
    "- Yep, works for me.\n",
    "- Mike and John will be there also.\n",
    "- So will be a good game, I just will be 15 minutes late I believe, my house is a bit far and I will be lunching still.\n",
    "- No worries, see you there.\n",
    "- Thanks, see you guys on Saturday.\"\"\")\n",
    "\n",
    "            f.write(content)\n",
    "\n",
    "# Example usage\n",
    "destination_folder = \"../dados/synthetic_chats\"\n",
    "num_files = 30\n",
    "generate_files(destination_folder, num_files)\n"
   ]
  }
 ],
 "metadata": {
  "kernelspec": {
   "display_name": "ee--umeK6YO-py3.12",
   "language": "python",
   "name": "python3"
  },
  "language_info": {
   "codemirror_mode": {
    "name": "ipython",
    "version": 3
   },
   "file_extension": ".py",
   "mimetype": "text/x-python",
   "name": "python",
   "nbconvert_exporter": "python",
   "pygments_lexer": "ipython3",
   "version": "3.12.4"
  }
 },
 "nbformat": 4,
 "nbformat_minor": 2
}
