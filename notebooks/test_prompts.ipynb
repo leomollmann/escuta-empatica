{
 "cells": [
  {
   "cell_type": "code",
   "execution_count": null,
   "metadata": {},
   "outputs": [
    {
     "ename": "",
     "evalue": "",
     "output_type": "error",
     "traceback": [
      "\u001b[1;31mRunning cells with 'Python 3.12.2' requires the ipykernel package.\n",
      "\u001b[1;31mRun the following command to install 'ipykernel' into the Python environment. \n",
      "\u001b[1;31mCommand: '/opt/homebrew/bin/python3 -m pip install ipykernel -U --user --force-reinstall'"
     ]
    }
   ],
   "source": [
    "import os\n",
    "import openai\n",
    "\n",
    "# Set up your API key\n",
    "openai.api_key = os.environ[\"OPENAI_API_KEY\"]\n",
    "\n",
    "def gpt3_prompt(prompt):\n",
    "    # Set the parameters for the completion\n",
    "    params = {\n",
    "        \"model\": \"gpt-3.5-turbo\",\n",
    "        \"prompt\": prompt,\n",
    "        \"max_tokens\": 100,\n",
    "        \"temperature\": 0.7,\n",
    "        \"n\": 1,\n",
    "        \"stop\": None\n",
    "    }\n",
    "\n",
    "    try:\n",
    "        response = openai.Completion.create(**params)\n",
    "        return response.choices[0].text.strip()\n",
    "    except Exception as e:\n",
    "        # Handle error if the API request fails\n",
    "        print(f\"Error: {e}\")\n",
    "        return None"
   ]
  }
 ],
 "metadata": {
  "kernelspec": {
   "display_name": "Python 3",
   "language": "python",
   "name": "python3"
  },
  "language_info": {
   "name": "python",
   "version": "3.12.2"
  }
 },
 "nbformat": 4,
 "nbformat_minor": 2
}
